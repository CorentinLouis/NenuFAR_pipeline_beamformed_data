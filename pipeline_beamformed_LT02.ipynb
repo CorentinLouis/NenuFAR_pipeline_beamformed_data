{
 "cells": [
  {
   "cell_type": "code",
   "execution_count": 1,
   "metadata": {},
   "outputs": [],
   "source": [
    "import numpy\n",
    "from astropy.io import fits\n",
    "from astropy.time import Time, TimeDelta\n",
    "import astropy.units as u\n",
    "from scipy.interpolate import interp2d\n",
    "from nenupy.astro.target import FixedTarget\n",
    "\n",
    "from plotting_functions import plot_dynamic_spectrum\n",
    "\n",
    "from scipy.signal import lombscargle as LS\n",
    "\n",
    "from ReadFits_data import ReadFits_data\n",
    "from ReadFits_rfimask import ReadFits_rfimask\n",
    "from applying_rfi_mask import applying_rfi_mask\n",
    "\n",
    "#from beamformed_data_LT02 import beamformed_data_LT02\n",
    "\n",
    "import xarray"
   ]
  },
  {
   "cell_type": "markdown",
   "metadata": {},
   "source": [
    "**Example of how to use the ReadFits_data and ReadFits_rfimask class to read LT02 observations and RFI masks**"
   ]
  },
  {
   "cell_type": "markdown",
   "metadata": {},
   "source": [
    "FITS Files names"
   ]
  },
  {
   "cell_type": "code",
   "execution_count": 2,
   "metadata": {},
   "outputs": [],
   "source": [
    "rfifile = \"./data/2023/07/20230731_084000_20230731_110000_AD_LEO_TRACKING/L1a/AD_LEO_TRACKING_20230731_084037_0.rfimask_a.fits\"\n",
    "datafile_L1a = \"./data/2023/07/20230731_084000_20230731_110000_AD_LEO_TRACKING/L1a/AD_LEO_TRACKING_20230731_084037_0.spectra_a.fits\"\n",
    "datafile_L1 = \"./data/2023/07/20230731_084000_20230731_110000_AD_LEO_TRACKING/L1/AD_LEO_TRACKING_20230731_084037_0.spectra.fits\"\n",
    "\n",
    "datafile_L1a_2 = \"./data/2023/07/20230728_083500_20230728_100000_AD_LEO_TRACKING/L1a/AD_LEO_TRACKING_20230728_083537_0.spectra_a.fits\""
   ]
  },
  {
   "cell_type": "code",
   "execution_count": 61,
   "metadata": {},
   "outputs": [],
   "source": [
    "dataL1a = ReadFits_data(datafile_L1a_2)"
   ]
  },
  {
   "cell_type": "markdown",
   "metadata": {},
   "source": [
    "Test lazy load & dask"
   ]
  },
  {
   "cell_type": "markdown",
   "metadata": {},
   "source": [
    "Reading FITS files"
   ]
  },
  {
   "cell_type": "code",
   "execution_count": 27,
   "metadata": {},
   "outputs": [],
   "source": [
    "#beam_on_L1 = ReadFits_data(datafile_L1)\n",
    "#beam_on_L1a = ReadFits_data(datafile_L1a)\n",
    "beam_on_L1a_2 = ReadFits_data(datafile_L1a_2)"
   ]
  },
  {
   "cell_type": "code",
   "execution_count": 36,
   "metadata": {},
   "outputs": [
    {
     "data": {
      "text/plain": [
       "array([1.69053337e+09, 1.69053337e+09, 1.69053337e+09, ...,\n",
       "       1.69053837e+09, 1.69053837e+09, 1.69053837e+09])"
      ]
     },
     "execution_count": 36,
     "metadata": {},
     "output_type": "execute_result"
    }
   ],
   "source": [
    "beam_on_L1a_2.time.value"
   ]
  },
  {
   "cell_type": "code",
   "execution_count": 4,
   "metadata": {},
   "outputs": [],
   "source": [
    "rfi_mask = ReadFits_rfimask(rfifile, beam_on_L1a.ndata)"
   ]
  },
  {
   "cell_type": "code",
   "execution_count": 5,
   "metadata": {},
   "outputs": [
    {
     "name": "stdout",
     "output_type": "stream",
     "text": [
      "0.9087354 0.46875 0.4973958333333333 0.4991319444444444\n"
     ]
    }
   ],
   "source": [
    "print(numpy.mean(rfi_mask.rfimask_level0), numpy.mean(rfi_mask.rfimask_level1), numpy.mean(rfi_mask.rfimask_level2), numpy.mean(rfi_mask.rfimask_level3))"
   ]
  },
  {
   "cell_type": "code",
   "execution_count": 5,
   "metadata": {},
   "outputs": [
    {
     "name": "stdout",
     "output_type": "stream",
     "text": [
      "0.9087354 0.8636435835744306 0.5231486997854339 0.41490050393546596\n"
     ]
    }
   ],
   "source": [
    "print(numpy.mean(rfi_mask.rfimask_level0), numpy.mean(rfi_mask.rfimask_level1), numpy.mean(rfi_mask.rfimask_level2), numpy.mean(rfi_mask.rfimask_level3))"
   ]
  },
  {
   "cell_type": "code",
   "execution_count": 25,
   "metadata": {},
   "outputs": [
    {
     "name": "stdout",
     "output_type": "stream",
     "text": [
      "0.0244140625\n",
      "[11.8270874  11.85150146 11.87591553 11.90032959 11.92474365 11.94915771\n",
      " 11.97357178 11.99798584 12.0223999  12.04681396] MHz None\n",
      "0.09765625\n",
      "[11.8637085  11.96136475 12.059021   12.15667725 12.2543335  12.35198975\n",
      " 12.449646   12.54730225 12.6449585  12.74261475] MHz None\n"
     ]
    }
   ],
   "source": [
    "print(beam_on_L1.frequency[0:10], print(beam_on_L1.frequency[1].value-beam_on_L1.frequency[0].value))\n",
    "print(beam_on_L1a.frequency[0:10], print(beam_on_L1a.frequency[1].value-beam_on_L1a.frequency[0].value))\n"
   ]
  },
  {
   "cell_type": "code",
   "execution_count": 13,
   "metadata": {},
   "outputs": [],
   "source": [
    "dataset_AD_LEO = beamformed_data_LT02(target='AD_LEO', level_of_preprocessed = 'L1a')"
   ]
  },
  {
   "cell_type": "code",
   "execution_count": 5,
   "metadata": {},
   "outputs": [],
   "source": [
    "import glob"
   ]
  },
  {
   "cell_type": "code",
   "execution_count": 6,
   "metadata": {},
   "outputs": [],
   "source": [
    "files_spectra = [\n",
    "            filename\n",
    "            for filename in glob.iglob(\n",
    "                f'/Users/clouis/Documents/General/Exoradio/pipeline_beamformed_data/**/{dataset_AD_LEO.level_of_preprocessed}/**/*{dataset_AD_LEO.target}*spectra*.fits',\n",
    "                recursive=True\n",
    "            )\n",
    "        ]\n",
    "files_spectra.sort()"
   ]
  },
  {
   "cell_type": "code",
   "execution_count": 8,
   "metadata": {},
   "outputs": [],
   "source": [
    "data_from_fits = ReadFits_data(files_spectra[0])"
   ]
  },
  {
   "cell_type": "code",
   "execution_count": 11,
   "metadata": {},
   "outputs": [],
   "source": [
    "dataset_AD_LEO.data = data_from_fits.data"
   ]
  },
  {
   "cell_type": "code",
   "execution_count": 21,
   "metadata": {},
   "outputs": [
    {
     "name": "stdout",
     "output_type": "stream",
     "text": [
      "384\n"
     ]
    }
   ],
   "source": [
    "print(data_from_fits.data.shape[1])"
   ]
  },
  {
   "cell_type": "code",
   "execution_count": 39,
   "metadata": {},
   "outputs": [
    {
     "ename": "ValueError",
     "evalue": "all the input array dimensions except for the concatenation axis must match exactly, but along dimension 1, the array at index 0 has size 0 and the array at index 1 has size 384",
     "output_type": "error",
     "traceback": [
      "\u001b[0;31m---------------------------------------------------------------------------\u001b[0m",
      "\u001b[0;31mValueError\u001b[0m                                Traceback (most recent call last)",
      "\u001b[1;32m/Users/clouis/Documents/General/Exoradio/pipeline_beamformed_data/pipeline_beamformed_LT02.ipynb Cellule 12\u001b[0m line \u001b[0;36m1\n\u001b[0;32m----> <a href='vscode-notebook-cell:/Users/clouis/Documents/General/Exoradio/pipeline_beamformed_data/pipeline_beamformed_LT02.ipynb#Y144sZmlsZQ%3D%3D?line=0'>1</a>\u001b[0m numpy\u001b[39m.\u001b[39;49mconcatenate((dataset_AD_LEO\u001b[39m.\u001b[39;49mdata, data_from_fits\u001b[39m.\u001b[39;49mdata), axis \u001b[39m=\u001b[39;49m \u001b[39m0\u001b[39;49m)\n",
      "File \u001b[0;32m<__array_function__ internals>:200\u001b[0m, in \u001b[0;36mconcatenate\u001b[0;34m(*args, **kwargs)\u001b[0m\n",
      "\u001b[0;31mValueError\u001b[0m: all the input array dimensions except for the concatenation axis must match exactly, but along dimension 1, the array at index 0 has size 0 and the array at index 1 has size 384"
     ]
    }
   ],
   "source": [
    "numpy.concatenate((dataset_AD_LEO.data, data_from_fits.data), axis = 0)"
   ]
  },
  {
   "cell_type": "code",
   "execution_count": null,
   "metadata": {},
   "outputs": [],
   "source": [
    "plot_dynamic_spectrum(beam_on_L1a, stokes = 'V/I', decibel = False, masked_data = False)"
   ]
  },
  {
   "cell_type": "code",
   "execution_count": null,
   "metadata": {},
   "outputs": [],
   "source": [
    "\n",
    "beam_on_L1a = ReadFits_data(datafile_L1a)\n",
    "rfi_mask = ReadFits_rfimask(rfifile, beam_on_L1a.ndata.T)"
   ]
  },
  {
   "cell_type": "markdown",
   "metadata": {},
   "source": [
    "Applying RFI mask"
   ]
  },
  {
   "cell_type": "code",
   "execution_count": null,
   "metadata": {},
   "outputs": [],
   "source": [
    "applying_rfi_mask(beam_on_L1a,rfi_mask, rfilevel= 3)"
   ]
  },
  {
   "cell_type": "code",
   "execution_count": null,
   "metadata": {},
   "outputs": [],
   "source": [
    "plot_dynamic_spectrum(beam_on_L1a, stokes = 'V/I', decibel = False, masked_data = False)"
   ]
  },
  {
   "cell_type": "code",
   "execution_count": null,
   "metadata": {},
   "outputs": [],
   "source": [
    "plot_dynamic_spectrum(beam_on_L1a, stokes = 'I', decibel = True, masked_data = False)"
   ]
  },
  {
   "cell_type": "code",
   "execution_count": null,
   "metadata": {},
   "outputs": [],
   "source": [
    "plot_dynamic_spectrum(beam_on_L1a, stokes = 'V/I', decibel = False, masked_data = True)"
   ]
  },
  {
   "cell_type": "code",
   "execution_count": null,
   "metadata": {},
   "outputs": [],
   "source": [
    "plot_dynamic_spectrum(beam_on_L1a, stokes = 'I', decibel = True, masked_data = True)"
   ]
  },
  {
   "cell_type": "code",
   "execution_count": null,
   "metadata": {},
   "outputs": [],
   "source": [
    "plot_dynamic_spectrum(beam_on_L1a, stokes = 'V/I', decibel = False, masked_data = True, title = \"RFI MASK LEVEL 3\")"
   ]
  },
  {
   "cell_type": "code",
   "execution_count": null,
   "metadata": {},
   "outputs": [],
   "source": [
    "print(beam_on_L1a.frequency[0])\n",
    "print(beam_on_L1a.frequency[1]-beam_on_L1a.frequency[0])\n",
    "\n",
    "print(beam_on_L1a.frequency[-1]-beam_on_L1a.frequency[-2])"
   ]
  },
  {
   "cell_type": "code",
   "execution_count": null,
   "metadata": {},
   "outputs": [],
   "source": [
    "print(beam_on_L1.frequency[0])\n",
    "print(beam_on_L1.frequency[1]-beam_on_L1.frequency[0])\n",
    "\n",
    "print(beam_on_L1.frequency[-1]-beam_on_L1.frequency[-2])"
   ]
  },
  {
   "cell_type": "code",
   "execution_count": null,
   "metadata": {},
   "outputs": [],
   "source": [
    "test_frequency = []\n",
    "test_frequency.append(beam_on_L1.frequency)"
   ]
  },
  {
   "cell_type": "code",
   "execution_count": null,
   "metadata": {},
   "outputs": [],
   "source": [
    "test_frequency.append(beam_on_L1.frequency)"
   ]
  },
  {
   "cell_type": "code",
   "execution_count": null,
   "metadata": {},
   "outputs": [],
   "source": [
    "test_frequency_tmp = numpy.concatenate(test_frequency, axis = 0)"
   ]
  },
  {
   "cell_type": "code",
   "execution_count": null,
   "metadata": {},
   "outputs": [],
   "source": [
    "test_frequency_tmp.shape"
   ]
  },
  {
   "cell_type": "markdown",
   "metadata": {},
   "source": [
    "**Reminder of what is in the L1a fits files**"
   ]
  },
  {
   "cell_type": "code",
   "execution_count": null,
   "metadata": {},
   "outputs": [],
   "source": [
    "with fits.open(datafile_L1a) as hdus:\n",
    "    print(hdus[0].header)\n",
    "    print(hdus[1].header)\n",
    "    print(hdus[2].header)\n",
    "    variab = hdus[2].data\n",
    "    print(f'3 {hdus[3].data.shape}') # data1 [ns, nfreq, ntime]\n",
    "    print(hdus[3].header)\n",
    "    print(f'4 {hdus[4].data.shape}') # data2 [ns, nfreq, ntime]\n",
    "    print(hdus[4].header)\n",
    "    print(f'5 {hdus[5].data.shape}') # data3 [ns, nfreq, ntime]\n",
    "    print(hdus[5].header)\n",
    "    print(f'6 {hdus[6].data.shape}') # data4 [ns, nfreq, ntime]\n",
    "    print(hdus[6].header)\n",
    "    print(f'7 {hdus[7].data.shape}') # ndata [nfreq, ntime]\n",
    "    print(hdus[7].header)\n",
    "    print(f'8 {hdus[8].data.shape}') # time [ntime]\n",
    "    print(hdus[8].header)\n",
    "    time = hdus[8].data\n",
    "    print(f'9 {hdus[9].data.shape}') # freq [nfreq]\n",
    "    print(hdus[9].header)\n",
    "    print(f'10 {hdus[10].data.shape}') # beam [nfreq]\n",
    "    print(hdus[10].header)\n",
    "    print(f'11 {hdus[11].data.shape}') # corrt [nbeam, ntime]\n",
    "    print(hdus[11].header)\n",
    "    print(f'12 {hdus[12].data.shape}') # corrf [nfreq]\n",
    "    print(hdus[12].header)\n",
    "    print(f'13 {hdus[13].data.shape}') # rmdata [n???, ntime]\n",
    "    print(hdus[13].header)\n",
    "    print(f'14 {hdus[14].data.shape}') # rm [n???]\n",
    "    print(hdus[14].header)"
   ]
  },
  {
   "cell_type": "markdown",
   "metadata": {},
   "source": [
    "**Reminder of what is in the L1 fits files**"
   ]
  },
  {
   "cell_type": "code",
   "execution_count": null,
   "metadata": {},
   "outputs": [],
   "source": [
    "with fits.open(datafile_L1) as hdus:\n",
    "    variab = hdus[2].data\n",
    "    print(f'3 {hdus[3].data.shape}') # data [ns, nfreq, ntime]\n",
    "    print(hdus[3].header)\n",
    "    print(f'4 {hdus[4].data.shape}') # ndata [nfreq, ntime]\n",
    "    print(hdus[4].header)\n",
    "    print(f'5 {hdus[5].data.shape}') # time [ntime]\n",
    "    print(hdus[5].header)\n",
    "    print(f'6 {hdus[6].data.shape}') # freq [nfreq]\n",
    "    print(hdus[6].header)\n",
    "    print(f'7 {hdus[7].data.shape}') # beam [nfreq]\n",
    "    print(hdus[7].header)\n",
    "    print(f'8 {hdus[8].data.shape}') # corrt [nbeam, ntime]\n",
    "    print(hdus[8].header)\n",
    "    print(f'9 {hdus[9].data.shape}') # corrf [nfreq]\n",
    "    print(hdus[9].header)\n",
    "    print(f'10 {hdus[10].data.shape}') # rmdata [n???, ntime]\n",
    "    print(hdus[10].header)\n",
    "    print(f'11 {hdus[11].data.shape}') # rm [n???]\n",
    "    print(hdus[11].header)"
   ]
  }
 ],
 "metadata": {
  "kernelspec": {
   "display_name": "python3.8",
   "language": "python",
   "name": "python3"
  },
  "language_info": {
   "codemirror_mode": {
    "name": "ipython",
    "version": 3
   },
   "file_extension": ".py",
   "mimetype": "text/x-python",
   "name": "python",
   "nbconvert_exporter": "python",
   "pygments_lexer": "ipython3",
   "version": "3.8.18"
  }
 },
 "nbformat": 4,
 "nbformat_minor": 2
}
