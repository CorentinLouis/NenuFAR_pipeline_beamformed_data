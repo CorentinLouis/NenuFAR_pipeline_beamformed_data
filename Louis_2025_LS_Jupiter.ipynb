{
 "cells": [
  {
   "cell_type": "code",
   "execution_count": null,
   "metadata": {},
   "outputs": [],
   "source": [
    "import numpy\n",
    "from h5py import File\n",
    "from astropy.time import Time\n",
    "import datetime\n",
    "\n",
    "\n",
    "import matplotlib.pyplot as plt\n",
    "from matplotlib.ticker import AutoMinorLocator, MultipleLocator\n",
    "import matplotlib.colors as mcolors\n",
    "from matplotlib import gridspec\n",
    "import matplotlib.dates as mdates\n",
    "\n",
    "from lomb_scargle_calculation import read_hdf5_file, datetime_to_timestamp, timestamp_to_datetime\n",
    "from LombScargle_functions import *\n",
    "\n",
    "\n"
   ]
  },
  {
   "cell_type": "code",
   "execution_count": 2,
   "metadata": {},
   "outputs": [],
   "source": [
    "def resonance_between_frequencies(T_1, T_2, T_3):\n",
    "    print(f'T_1: {T_1:.4f}; T_2: {T_2:.4f}, T_3: {T_3:.4f}')\n",
    "    print('Different combination:')\n",
    "    T_syno_sin_obs = (T_1*T_2)/numpy.abs(T_1 - T_2)\n",
    "    T_syno_sin_gap = (T_1*T_3)/numpy.abs(T_1 - T_3)\n",
    "    T_syno_sin_2gap = (T_1*2*T_3)/numpy.abs(T_1 - 2*T_3)\n",
    "    T_syno_sin_3gap = (T_1*3*T_3)/numpy.abs(T_1 - 3*T_3)\n",
    "    T_syno_sin_4gap = (T_1*4*T_3)/numpy.abs(T_1 - 4*T_3)\n",
    "    print(f'Synodic Period between T_1 and T_2: {T_syno_sin_obs:.3f}')\n",
    "    print(f'Synodic Period between T_1 and T_3: {T_syno_sin_gap:.3f}')\n",
    "    print(f'Synodic Period between T_1 and 2xT_gap: {T_syno_sin_2gap:.3f}')\n",
    "    print(f'Synodic Period between T_1 and 3xT_gap: {T_syno_sin_3gap:.3f}')\n",
    "    print(f'Synodic Period between T_1 and 4xT_gap: {T_syno_sin_4gap:.3f}')\n",
    "    \n",
    "    T_syno_obs_gap = (T_2*T_3)/numpy.abs(T_2 - T_3)\n",
    "    T_syno_obs_2gap = (T_2*2*T_3)/numpy.abs(T_2 - 2*T_3)\n",
    "    T_syno_obs_3gap = (T_2*3*T_3)/numpy.abs(T_2 - 3*T_3)\n",
    "    T_syno_obs_4gap = (T_2*4*T_3)/numpy.abs(T_2 - 4*T_3)\n",
    "    print(f'Synodic Period between T_2 and T_3: {T_syno_obs_gap:.3f}')\n",
    "    print(f'Synodic Period between T_2 and 2xT_3: {T_syno_obs_2gap:.3f}')\n",
    "    print(f'Synodic Period between T_2 and 3xT_3: {T_syno_obs_3gap:.3f}')\n",
    "    print(f'Synodic Period between T_2 and 4xT_3: {T_syno_obs_4gap:.3f}')\n",
    "\n",
    "    T_harmonic_sin_obs = 1/(1/T_1 + 1/T_2)\n",
    "    print(f'Harmonic resonance between T_1 and T_2:')\n",
    "    print(f'f_sin + f_obs: {T_harmonic_sin_obs:.3f} hours')\n",
    "    T_harmonic_sin_1gap = 1/(1/T_1+1/T_3)\n",
    "    T_harmonic_sin_2gap = 1/(1/T_1+2/T_3)\n",
    "    T_harmonic_sin_3gap = 1/(1/T_1+3/T_3)\n",
    "    T_harmonic_sin_4gap = 1/(1/T_1+4/T_3)\n",
    "    print(f'Harmonic resonance between T_1 and T_3:')\n",
    "    print(f'f_sin + f_gap: {T_harmonic_sin_1gap:.3f} hours')\n",
    "    print(f'f_sin + 2 x f_gap: {T_harmonic_sin_2gap:.3f} hours')\n",
    "    print(f'f_sin + 3 x f_gap: {T_harmonic_sin_3gap:.3f} hours')\n",
    "    print(f'f_sin + 4 x f_gap: {T_harmonic_sin_4gap:.3f} hours')\n",
    "    T_harmonic_obs_1gap = 1/(1/T_2+1/T_3)\n",
    "    T_harmonic_obs_2gap = 1/(1/T_2+2/T_3)\n",
    "    T_harmonic_obs_3gap = 1/(1/T_2+3/T_3)\n",
    "    T_harmonic_obs_4gap = 1/(1/T_2+4/T_3)\n",
    "    print(f'Harmonic resonance between T_2 and T_3:')\n",
    "    print(f'f_obs + f_gap: {T_harmonic_obs_1gap:.3f} hours')\n",
    "    print(f'f_obs + 2 x f_gap: {T_harmonic_obs_2gap:.3f} hours')\n",
    "    print(f'f_obs + 3 x f_gap: {T_harmonic_obs_3gap:.3f} hours')\n",
    "    print(f'f_obs + 4 x f_gap: {T_harmonic_obs_4gap:.3f} hours')\n"
   ]
  },
  {
   "cell_type": "markdown",
   "metadata": {},
   "source": [
    "## JUPITER"
   ]
  },
  {
   "cell_type": "code",
   "execution_count": null,
   "metadata": {},
   "outputs": [],
   "source": [
    "data_path = './data/processed/KP07/Jupiter/'\n",
    "filename_VI = 'preliminary_data_Stokes-VI_LT07_Jupiter_masklevel0_50percents_8-90MHz_dt600s_df1MHz_2019_2025_ON.hdf5'\n",
    "\n",
    "\n",
    "synodic_period_Moons = {\n",
    "                 'Io':  {'T_value': 42.5, 'T_name': f'Io'},\n",
    "                 'I/2-IJ_syn': {'T_value': 33.21, 'T_name': r'I/2-IJ$_{syn}$'},\n",
    "                 'D-IJ_syn': {'T_value': 28.22, 'T_name': r'D-IJ$_{syn}$'},\n",
    "                 'Day': {'T_value': 23.93, 'T_name': f'day'},\n",
    "                 'Io/2':{'T_value': 21.229, 'T_name': f'Io/2'},\n",
    "                 'D-J_syn': {'T_value': 16.95, 'T_name': r'D-J$_{syn}$'},\n",
    "                 'Io_syn': {'T_value': 12.993, 'T_name': r'Io$_{syn}$'},\n",
    "                 'Europa_syn': {'T_value': 11.2321, 'T_name': r'Eur$_{syn}$'},\n",
    "                 'Ganymede_syn': {'T_value': 10.5330, 'T_name': r'Gan$_{syn}$'},\n",
    "                 'Jupiter': {'T_value': 9.95, 'T_name': 'Jupiter'},\n",
    "                 'Jup_day_harm': {'T_value': 7.028, 'T_name': r'D-J$_{harm}$'},\n",
    "                 'Day/2': {'T_value': 11.965, 'T_name': r'$\\frac{day}{2}$'},\n",
    "                 'Jupiter/2':{'T_value':4.975, 'T_name': r'$\\frac{J}{2}$'},\n",
    "                }\n",
    "\n",
    "cmap = 'Greys'\n"
   ]
  },
  {
   "cell_type": "markdown",
   "metadata": {},
   "source": [
    "Reading data from preprocessed hdf5 file (containing V/I stokes ratio) and plot time series of measurements"
   ]
  },
  {
   "cell_type": "code",
   "execution_count": null,
   "metadata": {},
   "outputs": [],
   "source": [
    "read_and_plot_timeseries(path_to_data = data_path,\n",
    "                          file_name = filename_VI,\n",
    "                          target = 'Jupiter',\n",
    "                          target_type = 'exoplanet', \n",
    "                          beam_off_number = 1,\n",
    "                          extra_title='',\n",
    "                          beam_on = True, beam_off = False,\n",
    "                          savefig = True,\n",
    "                          filename = 'timeseries_Jupiter_df1MHz.pdf'\n",
    "                          )\n"
   ]
  },
  {
   "cell_type": "markdown",
   "metadata": {},
   "source": [
    "Reading data from preprocessed hdf5 file (containing V/I stokes ratio), calculate Lomb Scargle Periodogram at all observed frequency channel and plot results (LS periodogram at each observed frequency channel and 2D (LS freq. vs. Observed freq.) LS periodogram)"
   ]
  },
  {
   "cell_type": "code",
   "execution_count": null,
   "metadata": {},
   "outputs": [],
   "source": [
    "(frequency_LS, frequencies, power_LS_full) = read_data_and_plot_LS(\n",
    "                          path_to_data = data_path,\n",
    "                          file_name = filename_VI,\n",
    "                          target = 'Jupiter', # target name\n",
    "                          target_type = 'exoplanet', # exoplanet or star\n",
    "                          T_search = 12.992/24, # Expected periodicity in days (LS will look for periodicity x/ 10 this value)\n",
    "                          beam_on = True, beam_off = False,\n",
    "                          beam_off_number = 1, # empty string or number (int or string format)\n",
    "                          x_zoomin=[1,45],# y_zoomin = [0,0.1],\n",
    "                          log_x_scale = False,\n",
    "                          y_T_arrow = None,\n",
    "                          #T_title = r'Io$_{syn}$',\n",
    "                          T_title = r'',\n",
    "                          add_extra_T = synodic_period_Moons,\n",
    "                          vline = False,\n",
    "                          color_vline = None,\n",
    "                          y_zoomin_2D_periodogram = (8,88),\n",
    "                          vmin = 15, vmax = 30,\n",
    "                          cmap = cmap,\n",
    "                          #add_p_values = 'p-test',\n",
    "                          savefig = True,\n",
    "                          filename = 'SNR_LS_2D_Jupiter_df1MHz.png'\n",
    "                          )\n",
    "\n",
    "\n",
    "\n"
   ]
  },
  {
   "cell_type": "markdown",
   "metadata": {},
   "source": [
    "Reading data from preprocessed hdf5 file (containing V/I stokes ratio), calculate Lomb Scargle Periodogram *over observing time* in a sliding window, at all observed frequency channel and plot results in  2D (time vs. LS freq) LS periodogram"
   ]
  },
  {
   "cell_type": "code",
   "execution_count": null,
   "metadata": {},
   "outputs": [],
   "source": [
    "exoplanet_period_in_hours = 12.993\n",
    "\n",
    "t_min = datetime.datetime(2019,7,1)\n",
    "\n",
    "path_to_data = '/Users/clouis/Documents/General/Exoradio/pipeline_beamformed_data/outputs/nancep9/Jupiter/'\n",
    "file_name = 'preliminary_data_Stokes-VI_LT07_Jupiter_masklevel0_50percents_8-80MHz_dt600s_df5MHz_2019_2025_ON.hdf5'\n",
    "\n",
    "(time_datetime_beam_ON,\n",
    "            frequencies_beam_ON,\n",
    "            data_final_beam_ON,\n",
    "            stokes_beam_ON,\n",
    "            key_project_beam_ON,\n",
    "            target_beam_ON,\n",
    "            T_exoplanet_beam_ON,\n",
    "            T_star_beam_ON\n",
    "            ) = read_hdf5_file(path_to_data+file_name, dataset=True, LS_dataset = False)\n",
    "\n",
    "\n",
    "mask_tmin = time_datetime_beam_ON > t_min\n",
    "\n",
    "data_final_beam_ON = data_final_beam_ON[mask_tmin,:]\n",
    "time_datetime_beam_ON=time_datetime_beam_ON[mask_tmin]\n",
    "\n",
    "sorted_indices = numpy.argsort(time_datetime_beam_ON)\n",
    "data_final_beam_ON = data_final_beam_ON[sorted_indices,:]\n",
    "time_datetime_beam_ON = time_datetime_beam_ON[sorted_indices]\n",
    "\n"
   ]
  },
  {
   "cell_type": "code",
   "execution_count": null,
   "metadata": {},
   "outputs": [],
   "source": [
    "for i_window_size in [60*24*10*50]:\n",
    "        for i_step_size in [24*60*2]:\n",
    "                filename = f'./outputs/LS_SNR_periodogram_over_time_window{int(i_window_size/60/24)}day_step{int(i_step_size/60/24)}day_no_unphysical_values_8-33MHz_zoomin4-18MHz.png'\n",
    "                calculate_and_plot_SNR_LS_periodogram_over_time(time_datetime_beam_ON,frequencies_beam_ON, data_final_beam_ON,\n",
    "                                            cmap = cmap,\n",
    "                                            exoplanet_period_in_hours = 12.993,\n",
    "                                            hline_label = '',\n",
    "                                            x_zoomin = None, # datetime object\n",
    "                                            LS_y_zoomin = (4,18),\n",
    "                                            observed_frequency_limits = [8,33],\n",
    "                                            LS_window_size = i_window_size,  # Number of points in each window (in minutes)\n",
    "                                            LS_step_size = i_step_size,\n",
    "                                            vmin = 5, vmax = 15,\n",
    "                                            add_extra_T = synodic_period_Moons,\n",
    "                                            savefig = True, filename = filename)\n",
    "\n"
   ]
  },
  {
   "cell_type": "markdown",
   "metadata": {},
   "source": [
    "Same as before, but with elevation of Jupiter in the sky (more file necessary)"
   ]
  },
  {
   "cell_type": "code",
   "execution_count": null,
   "metadata": {},
   "outputs": [],
   "source": [
    "import numpy as np\n",
    "import matplotlib.pyplot as plt\n",
    "from astropy.time import Time\n",
    "import matplotlib.dates as mdates\n",
    "\n",
    "jup_elevation_path = \"./data/Jupiter_elevation/\"\n",
    "jd = np.load(f\"{jup_elevation_path}2019_2025_jup_jd.npy\")\n",
    "fraction = np.load(f\"{jup_elevation_path}2019_2025_jup_fraction.npy\")\n",
    "\n",
    "\n",
    "period_day = {\n",
    "                 'Day': {'T_value': 23.93, 'T_name': f'day'},\n",
    "                 'Day/2': {'T_value': 11.965, 'T_name': r'$\\frac{day}{2}$'},\n",
    "                }\n",
    "\n",
    "#for i_window_size in [100, 500, 1000, 2000, 3000, 4000]:\n",
    "#    for i_step_size in [10, 50, 100, 200, 400, 600]:\n",
    "#for i_window_size in [60*24*10*10, 60*24*10*20 ,60*24*10*30, 60*24*10*40, 60*24*10*50]:\n",
    "#        for i_step_size in [24*60, 24*60*2, 24*60*4, 24*60*7, 24*60*15]:\n",
    "for i_window_size in [60*24*10*30]:\n",
    "        for i_step_size in [24*60*2]:\n",
    "                filename = f'./outputs/LS_periodogram_over_time_window{int(i_window_size/60/24)}day_step{int(i_step_size/60/24)}_withephem.png'\n",
    "                #if i_step_size <= i_window_size:\n",
    "                calculate_and_plot_SNR_LS_periodogram_over_time(time_datetime_beam_ON,frequencies_beam_ON, data_final_beam_ON,\n",
    "                                            cmap = 'Greys',\n",
    "                                            exoplanet_period_in_hours = 12.993,\n",
    "                                            hline_label = '',\n",
    "                                            x_zoomin = None, # datetime object\n",
    "                                            LS_y_zoomin = (4,45),\n",
    "                                            observed_frequency_limits = [8,8],\n",
    "                                            LS_window_size = i_window_size,  # Number of points in each window (in minutes)\n",
    "                                            LS_step_size = i_step_size,\n",
    "                                            vmin = 5, vmax = 15,\n",
    "                                            add_extra_T = period_day,\n",
    "                                            savefig = True, filename = filename,\n",
    "                                            extra_panel_data = [Time(jd, format=\"jd\").datetime, fraction*100],\n",
    "                                            extra_panel_ytitle = 'Jupiter visibility in the night sky\\n(%)')\n",
    "\n"
   ]
  }
 ],
 "metadata": {
  "kernelspec": {
   "display_name": "python3.8",
   "language": "python",
   "name": "python3"
  },
  "language_info": {
   "codemirror_mode": {
    "name": "ipython",
    "version": 3
   },
   "file_extension": ".py",
   "mimetype": "text/x-python",
   "name": "python",
   "nbconvert_exporter": "python",
   "pygments_lexer": "ipython3",
   "version": "3.8.18"
  }
 },
 "nbformat": 4,
 "nbformat_minor": 2
}
